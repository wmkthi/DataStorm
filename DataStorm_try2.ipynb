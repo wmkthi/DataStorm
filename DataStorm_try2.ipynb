{
 "cells": [
  {
   "cell_type": "code",
   "execution_count": 2,
   "metadata": {},
   "outputs": [],
   "source": [
    "#import libraries\n",
    "import pandas as pd\n",
    "import numpy as np\n",
    "import matplotlib.pyplot as plt\n",
    "import seaborn as sns\n",
    "%matplotlib inline\n",
    "from sklearn.model_selection import train_test_split\n",
    "from sklearn.linear_model import Lasso, LogisticRegression\n",
    "from sklearn.feature_selection import SelectFromModel\n",
    "import warnings\n",
    "warnings.filterwarnings(\"ignore\")"
   ]
  },
  {
   "cell_type": "code",
   "execution_count": 3,
   "metadata": {},
   "outputs": [],
   "source": [
    "data = pd.read_csv(\"C:\\\\Users\\\\Wimukthi\\\\Desktop\\\\DataStorm\\\\credit_card_default_train.csv\") #import dataset"
   ]
  },
  {
   "cell_type": "code",
   "execution_count": 4,
   "metadata": {},
   "outputs": [],
   "source": [
    "#replaceing M and K with relavant number of zeros\n",
    "data['Balance_Limit_V1']=data['Balance_Limit_V1'].str.replace(\"M\",\"000000\")  \n",
    "data['Balance_Limit_V1']=data['Balance_Limit_V1'].str.replace(\"K\",\"000\")\n",
    "data['Balance_Limit_V1']=data['Balance_Limit_V1'].astype(\"float\") #convert datatype into float"
   ]
  },
  {
   "cell_type": "code",
   "execution_count": 5,
   "metadata": {},
   "outputs": [],
   "source": [
    "#standardizing numerical features\n",
    "col_to_norm = ['Balance_Limit_V1','DUE_AMT_JULY', 'DUE_AMT_AUG', 'DUE_AMT_SEP','DUE_AMT_OCT', \n",
    "               'DUE_AMT_NOV', 'DUE_AMT_DEC', 'PAID_AMT_JULY','PAID_AMT_AUG', 'PAID_AMT_SEP', \n",
    "               'PAID_AMT_OCT', 'PAID_AMT_NOV','PAID_AMT_DEC']\n",
    "data[col_to_norm]=data[col_to_norm].apply(lambda x: (x-np.mean(x))/np.std(x))"
   ]
  },
  {
   "cell_type": "code",
   "execution_count": 6,
   "metadata": {},
   "outputs": [],
   "source": [
    "#Creating Dummy Variable for Categorical data\n",
    "cat_vars=['Gender', 'EDUCATION_STATUS','MARITAL_STATUS', 'AGE', 'PAY_JULY', 'PAY_AUG', \n",
    "          'PAY_SEP', 'PAY_OCT','PAY_NOV', 'PAY_DEC']\n",
    "for var in cat_vars:\n",
    "    cat_list=\"var\"+'_'+var\n",
    "    cat_list=pd.get_dummies(data[var], prefix=var)\n",
    "    data=data.join(cat_list)\n",
    "data_var=data.columns.values.tolist()\n",
    "to_keep=[i for i in data_var if i not in cat_vars]"
   ]
  },
  {
   "cell_type": "code",
   "execution_count": 7,
   "metadata": {},
   "outputs": [
    {
     "data": {
      "text/plain": [
       "array(['Client_ID', 'Balance_Limit_V1', 'DUE_AMT_JULY', 'DUE_AMT_AUG',\n",
       "       'DUE_AMT_SEP', 'DUE_AMT_OCT', 'DUE_AMT_NOV', 'DUE_AMT_DEC',\n",
       "       'PAID_AMT_JULY', 'PAID_AMT_AUG', 'PAID_AMT_SEP', 'PAID_AMT_OCT',\n",
       "       'PAID_AMT_NOV', 'PAID_AMT_DEC', 'NEXT_MONTH_DEFAULT', 'Gender_F',\n",
       "       'Gender_M', 'EDUCATION_STATUS_Graduate',\n",
       "       'EDUCATION_STATUS_High School', 'EDUCATION_STATUS_Other',\n",
       "       'MARITAL_STATUS_Other', 'MARITAL_STATUS_Single', 'AGE_31-45',\n",
       "       'AGE_46-65', 'AGE_Less than 30', 'AGE_More than 65', 'PAY_JULY_-2',\n",
       "       'PAY_JULY_-1', 'PAY_JULY_0', 'PAY_JULY_1', 'PAY_JULY_2',\n",
       "       'PAY_JULY_3', 'PAY_JULY_4', 'PAY_JULY_5', 'PAY_JULY_6',\n",
       "       'PAY_JULY_7', 'PAY_JULY_8', 'PAY_AUG_-2', 'PAY_AUG_-1',\n",
       "       'PAY_AUG_0', 'PAY_AUG_1', 'PAY_AUG_2', 'PAY_AUG_3', 'PAY_AUG_4',\n",
       "       'PAY_AUG_5', 'PAY_AUG_6', 'PAY_AUG_7', 'PAY_AUG_8', 'PAY_SEP_-2',\n",
       "       'PAY_SEP_-1', 'PAY_SEP_0', 'PAY_SEP_1', 'PAY_SEP_2', 'PAY_SEP_3',\n",
       "       'PAY_SEP_4', 'PAY_SEP_5', 'PAY_SEP_6', 'PAY_SEP_7', 'PAY_SEP_8',\n",
       "       'PAY_OCT_-2', 'PAY_OCT_-1', 'PAY_OCT_0', 'PAY_OCT_1', 'PAY_OCT_2',\n",
       "       'PAY_OCT_3', 'PAY_OCT_4', 'PAY_OCT_5', 'PAY_OCT_6', 'PAY_OCT_7',\n",
       "       'PAY_OCT_8', 'PAY_NOV_-2', 'PAY_NOV_-1', 'PAY_NOV_0', 'PAY_NOV_2',\n",
       "       'PAY_NOV_3', 'PAY_NOV_4', 'PAY_NOV_5', 'PAY_NOV_6', 'PAY_NOV_7',\n",
       "       'PAY_NOV_8', 'PAY_DEC_-2', 'PAY_DEC_-1', 'PAY_DEC_0', 'PAY_DEC_2',\n",
       "       'PAY_DEC_3', 'PAY_DEC_4', 'PAY_DEC_5', 'PAY_DEC_6', 'PAY_DEC_7',\n",
       "       'PAY_DEC_8'], dtype=object)"
      ]
     },
     "execution_count": 7,
     "metadata": {},
     "output_type": "execute_result"
    }
   ],
   "source": [
    "data_final=data[to_keep]\n",
    "data_final.columns.values"
   ]
  },
  {
   "cell_type": "code",
   "execution_count": 8,
   "metadata": {},
   "outputs": [],
   "source": [
    "X = data_final[['Balance_Limit_V1', 'DUE_AMT_JULY', 'DUE_AMT_AUG',\n",
    "       'DUE_AMT_SEP', 'DUE_AMT_OCT', 'DUE_AMT_NOV', 'DUE_AMT_DEC',\n",
    "       'PAID_AMT_JULY', 'PAID_AMT_AUG', 'PAID_AMT_SEP', 'PAID_AMT_OCT',\n",
    "       'PAID_AMT_NOV', 'PAID_AMT_DEC', 'Gender_F',\n",
    "        'EDUCATION_STATUS_Graduate',\n",
    "       'EDUCATION_STATUS_High School', \n",
    "       'MARITAL_STATUS_Other',  'AGE_31-45',\n",
    "       'AGE_46-65', 'AGE_Less than 30',  'PAY_JULY_-2',\n",
    "       'PAY_JULY_-1', 'PAY_JULY_1', 'PAY_JULY_2',\n",
    "       'PAY_JULY_3', 'PAY_JULY_4', 'PAY_JULY_5', 'PAY_JULY_6',\n",
    "       'PAY_JULY_7', 'PAY_JULY_8', 'PAY_AUG_-2', 'PAY_AUG_-1',\n",
    "        'PAY_AUG_1', 'PAY_AUG_2', 'PAY_AUG_3', 'PAY_AUG_4',\n",
    "       'PAY_AUG_5', 'PAY_AUG_6', 'PAY_AUG_7', 'PAY_AUG_8', 'PAY_SEP_-2',\n",
    "       'PAY_SEP_-1',  'PAY_SEP_1', 'PAY_SEP_2', 'PAY_SEP_3',\n",
    "       'PAY_SEP_4', 'PAY_SEP_5', 'PAY_SEP_6', 'PAY_SEP_7', 'PAY_SEP_8',\n",
    "       'PAY_OCT_-2', 'PAY_OCT_-1',  'PAY_OCT_1', 'PAY_OCT_2',\n",
    "       'PAY_OCT_3', 'PAY_OCT_4', 'PAY_OCT_5', 'PAY_OCT_6', 'PAY_OCT_7',\n",
    "       'PAY_OCT_8', 'PAY_NOV_-2', 'PAY_NOV_-1',  'PAY_NOV_2',\n",
    "       'PAY_NOV_3', 'PAY_NOV_4', 'PAY_NOV_5', 'PAY_NOV_6', 'PAY_NOV_7',\n",
    "       'PAY_NOV_8', 'PAY_DEC_-2', 'PAY_DEC_-1',  'PAY_DEC_2',\n",
    "       'PAY_DEC_3', 'PAY_DEC_4', 'PAY_DEC_5', 'PAY_DEC_6', 'PAY_DEC_7',\n",
    "       'PAY_DEC_8']]\n",
    "y=data_final[\"NEXT_MONTH_DEFAULT\"]"
   ]
  },
  {
   "cell_type": "code",
   "execution_count": 9,
   "metadata": {},
   "outputs": [
    {
     "name": "stdout",
     "output_type": "stream",
     "text": [
      "train set: (16800, 78)\n",
      "test set: (7200, 78)\n"
     ]
    }
   ],
   "source": [
    "#split the data\n",
    "X_train, X_test, y_train, y_test = train_test_split(X, y, test_size=0.3, random_state=0)\n",
    "print(\"train set:\",X_train.shape)\n",
    "print(\"test set:\",X_test.shape)"
   ]
  },
  {
   "cell_type": "markdown",
   "metadata": {},
   "source": [
    "### Feature Selection"
   ]
  },
  {
   "cell_type": "code",
   "execution_count": 43,
   "metadata": {},
   "outputs": [
    {
     "data": {
      "text/plain": [
       "SelectFromModel(estimator=LogisticRegression(C=0.147, class_weight=None,\n",
       "                                             dual=False, fit_intercept=True,\n",
       "                                             intercept_scaling=1, l1_ratio=None,\n",
       "                                             max_iter=100, multi_class='warn',\n",
       "                                             n_jobs=None, penalty='l1',\n",
       "                                             random_state=None, solver='warn',\n",
       "                                             tol=0.0001, verbose=0,\n",
       "                                             warm_start=False),\n",
       "                max_features=None, norm_order=1, prefit=False, threshold=None)"
      ]
     },
     "execution_count": 43,
     "metadata": {},
     "output_type": "execute_result"
    }
   ],
   "source": [
    "#Feature Selection using lasso\n",
    "sel_ = SelectFromModel(LogisticRegression(C=0.147, penalty='l1'))\n",
    "sel_.fit(X_train, y_train)"
   ]
  },
  {
   "cell_type": "code",
   "execution_count": 44,
   "metadata": {},
   "outputs": [
    {
     "name": "stdout",
     "output_type": "stream",
     "text": [
      "total features: 78\n",
      "selected features: 39\n",
      "features with coefficients shrank to zero: 39\n"
     ]
    }
   ],
   "source": [
    "#selected features\n",
    "selected_feat = X_train.columns[(sel_.get_support())]\n",
    "print('total features: {}'.format((X_train.shape[1])))\n",
    "print('selected features: {}'.format(len(selected_feat)))\n",
    "print('features with coefficients shrank to zero: {}'.format(\n",
    "      np.sum(sel_.estimator_.coef_ == 0)))"
   ]
  },
  {
   "cell_type": "code",
   "execution_count": 45,
   "metadata": {},
   "outputs": [
    {
     "data": {
      "text/plain": [
       "Index(['DUE_AMT_JULY', 'DUE_AMT_OCT', 'AGE_46-65', 'PAY_JULY_-2', 'PAY_JULY_5',\n",
       "       'PAY_JULY_6', 'PAY_JULY_7', 'PAY_JULY_8', 'PAY_AUG_1', 'PAY_AUG_4',\n",
       "       'PAY_AUG_5', 'PAY_AUG_6', 'PAY_AUG_7', 'PAY_AUG_8', 'PAY_SEP_-2',\n",
       "       'PAY_SEP_1', 'PAY_SEP_4', 'PAY_SEP_5', 'PAY_SEP_6', 'PAY_SEP_7',\n",
       "       'PAY_SEP_8', 'PAY_OCT_-2', 'PAY_OCT_1', 'PAY_OCT_5', 'PAY_OCT_6',\n",
       "       'PAY_OCT_7', 'PAY_OCT_8', 'PAY_NOV_-1', 'PAY_NOV_3', 'PAY_NOV_4',\n",
       "       'PAY_NOV_5', 'PAY_NOV_6', 'PAY_NOV_7', 'PAY_NOV_8', 'PAY_DEC_4',\n",
       "       'PAY_DEC_5', 'PAY_DEC_6', 'PAY_DEC_7', 'PAY_DEC_8'],\n",
       "      dtype='object')"
      ]
     },
     "execution_count": 45,
     "metadata": {},
     "output_type": "execute_result"
    }
   ],
   "source": [
    "#identify the removed features\n",
    "removed_feats = X_train.columns[(sel_.estimator_.coef_ == 0).ravel().tolist()]\n",
    "removed_feats"
   ]
  },
  {
   "cell_type": "code",
   "execution_count": 46,
   "metadata": {},
   "outputs": [
    {
     "data": {
      "text/plain": [
       "((16800, 39), (7200, 39))"
      ]
     },
     "execution_count": 46,
     "metadata": {},
     "output_type": "execute_result"
    }
   ],
   "source": [
    "#getting selected features\n",
    "X_train_selected = sel_.transform(X_train)\n",
    "X_test_selected = sel_.transform(X_test)\n",
    "X_train_selected.shape, X_test_selected.shape"
   ]
  },
  {
   "cell_type": "code",
   "execution_count": 47,
   "metadata": {},
   "outputs": [
    {
     "data": {
      "text/plain": [
       "LogisticRegression(C=1.0, class_weight=None, dual=False, fit_intercept=True,\n",
       "                   intercept_scaling=1, l1_ratio=None, max_iter=100,\n",
       "                   multi_class='warn', n_jobs=None, penalty='l2',\n",
       "                   random_state=None, solver='warn', tol=0.0001, verbose=0,\n",
       "                   warm_start=False)"
      ]
     },
     "execution_count": 47,
     "metadata": {},
     "output_type": "execute_result"
    }
   ],
   "source": [
    "#logistic regression\n",
    "logistic_regression = LogisticRegression()\n",
    "logistic_regression.fit(X_train_selected,y_train) #model fit"
   ]
  },
  {
   "cell_type": "code",
   "execution_count": 48,
   "metadata": {},
   "outputs": [],
   "source": [
    "y_pred = logistic_regression.predict(X_test_selected) #predicting"
   ]
  },
  {
   "cell_type": "code",
   "execution_count": 49,
   "metadata": {},
   "outputs": [
    {
     "name": "stdout",
     "output_type": "stream",
     "text": [
      "Accuracy of the Logistic Regression Model: 82.54166666666667\n"
     ]
    }
   ],
   "source": [
    "#model accuracy\n",
    "from sklearn import metrics \n",
    "accuracy = metrics.accuracy_score(y_test, y_pred)\n",
    "accuracy_percentage = 100 * accuracy\n",
    "print(\"Accuracy of the Logistic Regression Model:\",accuracy_percentage)"
   ]
  },
  {
   "cell_type": "code",
   "execution_count": 50,
   "metadata": {},
   "outputs": [
    {
     "name": "stdout",
     "output_type": "stream",
     "text": [
      "              precision    recall  f1-score   support\n",
      "\n",
      "           0       0.84      0.95      0.90      5647\n",
      "           1       0.68      0.36      0.47      1553\n",
      "\n",
      "    accuracy                           0.83      7200\n",
      "   macro avg       0.76      0.66      0.68      7200\n",
      "weighted avg       0.81      0.83      0.80      7200\n",
      "\n"
     ]
    }
   ],
   "source": [
    "from sklearn.metrics import classification_report\n",
    "print(classification_report(y_test, y_pred)) #classification report"
   ]
  },
  {
   "cell_type": "markdown",
   "metadata": {},
   "source": [
    "### Predictions"
   ]
  },
  {
   "cell_type": "code",
   "execution_count": 51,
   "metadata": {
    "scrolled": true
   },
   "outputs": [],
   "source": [
    "td = pd.read_csv(\"C:\\\\Users\\\\Wimukthi\\\\Desktop\\\\DataStorm\\\\credit_card_default_test.csv\") #import test data"
   ]
  },
  {
   "cell_type": "code",
   "execution_count": 52,
   "metadata": {},
   "outputs": [],
   "source": [
    "#replaceing M and K with relavant number of zeros\n",
    "td['Balance_Limit_V1']=td['Balance_Limit_V1'].str.replace(\"M\",\"000000\")  \n",
    "td['Balance_Limit_V1']=td['Balance_Limit_V1'].str.replace(\"K\",\"000\")\n",
    "td['Balance_Limit_V1']=td['Balance_Limit_V1'].astype(\"float\") #convert datatype into float"
   ]
  },
  {
   "cell_type": "code",
   "execution_count": 53,
   "metadata": {},
   "outputs": [],
   "source": [
    "#standardizing numerical features\n",
    "col_to_norm = ['Balance_Limit_V1','DUE_AMT_JULY', 'DUE_AMT_AUG', 'DUE_AMT_SEP','DUE_AMT_OCT', \n",
    "               'DUE_AMT_NOV', 'DUE_AMT_DEC', 'PAID_AMT_JULY','PAID_AMT_AUG', 'PAID_AMT_SEP', \n",
    "               'PAID_AMT_OCT', 'PAID_AMT_NOV','PAID_AMT_DEC']\n",
    "td[col_to_norm]=td[col_to_norm].apply(lambda x: (x-np.mean(x))/np.std(x))"
   ]
  },
  {
   "cell_type": "code",
   "execution_count": 54,
   "metadata": {},
   "outputs": [],
   "source": [
    "#Creating Dummy Variable for Categorical data\n",
    "cat_vars=['Gender', 'EDUCATION_STATUS','MARITAL_STATUS', 'AGE', 'PAY_JULY', 'PAY_AUG', \n",
    "          'PAY_SEP', 'PAY_OCT','PAY_NOV', 'PAY_DEC']\n",
    "for var in cat_vars:\n",
    "    cat_list=\"var\"+'_'+var\n",
    "    cat_list=pd.get_dummies(td[var], prefix=var)\n",
    "    td=td.join(cat_list)\n",
    "data_var=td.columns.values.tolist()\n",
    "to_keep=[i for i in data_var if i not in cat_vars]"
   ]
  },
  {
   "cell_type": "code",
   "execution_count": 55,
   "metadata": {},
   "outputs": [
    {
     "data": {
      "text/plain": [
       "array(['Client_ID', 'Balance_Limit_V1', 'DUE_AMT_JULY', 'DUE_AMT_AUG',\n",
       "       'DUE_AMT_SEP', 'DUE_AMT_OCT', 'DUE_AMT_NOV', 'DUE_AMT_DEC',\n",
       "       'PAID_AMT_JULY', 'PAID_AMT_AUG', 'PAID_AMT_SEP', 'PAID_AMT_OCT',\n",
       "       'PAID_AMT_NOV', 'PAID_AMT_DEC', 'Gender_F', 'Gender_M',\n",
       "       'EDUCATION_STATUS_Graduate', 'EDUCATION_STATUS_High School',\n",
       "       'EDUCATION_STATUS_Other', 'MARITAL_STATUS_Other',\n",
       "       'MARITAL_STATUS_Single', 'AGE_31-45', 'AGE_46-65',\n",
       "       'AGE_Less than 30', 'AGE_More than 65', 'PAY_JULY_-2',\n",
       "       'PAY_JULY_-1', 'PAY_JULY_0', 'PAY_JULY_1', 'PAY_JULY_2',\n",
       "       'PAY_JULY_3', 'PAY_JULY_4', 'PAY_JULY_5', 'PAY_JULY_6',\n",
       "       'PAY_JULY_7', 'PAY_JULY_8', 'PAY_AUG_-2', 'PAY_AUG_-1',\n",
       "       'PAY_AUG_0', 'PAY_AUG_1', 'PAY_AUG_2', 'PAY_AUG_3', 'PAY_AUG_4',\n",
       "       'PAY_AUG_5', 'PAY_AUG_6', 'PAY_AUG_7', 'PAY_SEP_-2', 'PAY_SEP_-1',\n",
       "       'PAY_SEP_0', 'PAY_SEP_2', 'PAY_SEP_3', 'PAY_SEP_4', 'PAY_SEP_5',\n",
       "       'PAY_SEP_6', 'PAY_SEP_7', 'PAY_SEP_8', 'PAY_OCT_-2', 'PAY_OCT_-1',\n",
       "       'PAY_OCT_0', 'PAY_OCT_2', 'PAY_OCT_3', 'PAY_OCT_4', 'PAY_OCT_5',\n",
       "       'PAY_OCT_6', 'PAY_OCT_7', 'PAY_NOV_-2', 'PAY_NOV_-1', 'PAY_NOV_0',\n",
       "       'PAY_NOV_2', 'PAY_NOV_3', 'PAY_NOV_4', 'PAY_NOV_5', 'PAY_NOV_6',\n",
       "       'PAY_NOV_7', 'PAY_DEC_-2', 'PAY_DEC_-1', 'PAY_DEC_0', 'PAY_DEC_2',\n",
       "       'PAY_DEC_3', 'PAY_DEC_4', 'PAY_DEC_5', 'PAY_DEC_6', 'PAY_DEC_7'],\n",
       "      dtype=object)"
      ]
     },
     "execution_count": 55,
     "metadata": {},
     "output_type": "execute_result"
    }
   ],
   "source": [
    "td_final=td[to_keep]\n",
    "td_final.columns.values"
   ]
  },
  {
   "cell_type": "code",
   "execution_count": 56,
   "metadata": {},
   "outputs": [
    {
     "data": {
      "text/plain": [
       "Index(['Balance_Limit_V1', 'DUE_AMT_AUG', 'DUE_AMT_SEP', 'DUE_AMT_NOV',\n",
       "       'DUE_AMT_DEC', 'PAID_AMT_JULY', 'PAID_AMT_AUG', 'PAID_AMT_SEP',\n",
       "       'PAID_AMT_OCT', 'PAID_AMT_NOV', 'PAID_AMT_DEC', 'Gender_F',\n",
       "       'EDUCATION_STATUS_Graduate', 'EDUCATION_STATUS_High School',\n",
       "       'MARITAL_STATUS_Other', 'AGE_31-45', 'AGE_Less than 30', 'PAY_JULY_-1',\n",
       "       'PAY_JULY_1', 'PAY_JULY_2', 'PAY_JULY_3', 'PAY_JULY_4', 'PAY_AUG_-2',\n",
       "       'PAY_AUG_-1', 'PAY_AUG_2', 'PAY_AUG_3', 'PAY_SEP_-1', 'PAY_SEP_2',\n",
       "       'PAY_SEP_3', 'PAY_OCT_-1', 'PAY_OCT_2', 'PAY_OCT_3', 'PAY_OCT_4',\n",
       "       'PAY_NOV_-2', 'PAY_NOV_2', 'PAY_DEC_-2', 'PAY_DEC_-1', 'PAY_DEC_2',\n",
       "       'PAY_DEC_3'],\n",
       "      dtype='object')"
      ]
     },
     "execution_count": 56,
     "metadata": {},
     "output_type": "execute_result"
    }
   ],
   "source": [
    "final_cols = X_train.columns[(sel_.estimator_.coef_ != 0).ravel().tolist()]\n",
    "final_cols"
   ]
  },
  {
   "cell_type": "code",
   "execution_count": 58,
   "metadata": {},
   "outputs": [],
   "source": [
    "#Final Columns to keep\n",
    "X=td_final[['Balance_Limit_V1', 'DUE_AMT_AUG', 'DUE_AMT_SEP', 'DUE_AMT_NOV',\n",
    "       'DUE_AMT_DEC', 'PAID_AMT_JULY', 'PAID_AMT_AUG', 'PAID_AMT_SEP',\n",
    "       'PAID_AMT_OCT', 'PAID_AMT_NOV', 'PAID_AMT_DEC', 'Gender_F',\n",
    "       'EDUCATION_STATUS_Graduate', 'EDUCATION_STATUS_High School',\n",
    "       'MARITAL_STATUS_Other', 'AGE_31-45', 'AGE_Less than 30', 'PAY_JULY_-1',\n",
    "       'PAY_JULY_1', 'PAY_JULY_2', 'PAY_JULY_3', 'PAY_JULY_4', 'PAY_AUG_-2',\n",
    "       'PAY_AUG_-1', 'PAY_AUG_2', 'PAY_AUG_3', 'PAY_SEP_-1', 'PAY_SEP_2',\n",
    "       'PAY_SEP_3', 'PAY_OCT_-1', 'PAY_OCT_2', 'PAY_OCT_3', 'PAY_OCT_4',\n",
    "       'PAY_NOV_-2', 'PAY_NOV_2', 'PAY_DEC_-2', 'PAY_DEC_-1', 'PAY_DEC_2',\n",
    "       'PAY_DEC_3']]\n",
    "#y=td_final[\"NEXT_MONTH_DEFAULT\"]"
   ]
  },
  {
   "cell_type": "code",
   "execution_count": 59,
   "metadata": {},
   "outputs": [],
   "source": [
    "y_test_predict = logistic_regression.predict(X) #predicting"
   ]
  },
  {
   "cell_type": "code",
   "execution_count": 63,
   "metadata": {},
   "outputs": [],
   "source": [
    "credit_default = pd.DataFrame(y_test_predict,columns = ['NEXT_MONTH_DEFAULT']) #convert to a dataframe"
   ]
  },
  {
   "cell_type": "code",
   "execution_count": 64,
   "metadata": {},
   "outputs": [],
   "source": [
    "#merge the predictions and test data set\n",
    "td['index'] = td.index \n",
    "credit_default['index'] = credit_default.index\n",
    "result = pd.merge(td,credit_default, on= 'index')"
   ]
  },
  {
   "cell_type": "code",
   "execution_count": 65,
   "metadata": {},
   "outputs": [],
   "source": [
    "predictions = result[[\"Client_ID\",\"NEXT_MONTH_DEFAULT\"]]\n",
    "predictions.to_csv(\"C:\\\\Users\\\\Wimukthi\\\\Desktop\\\\DataStorm\\\\predictions_2.csv\", index=False) #export prediction to a csv file"
   ]
  }
 ],
 "metadata": {
  "kernelspec": {
   "display_name": "Python 3",
   "language": "python",
   "name": "python3"
  },
  "language_info": {
   "codemirror_mode": {
    "name": "ipython",
    "version": 3
   },
   "file_extension": ".py",
   "mimetype": "text/x-python",
   "name": "python",
   "nbconvert_exporter": "python",
   "pygments_lexer": "ipython3",
   "version": "3.7.4"
  }
 },
 "nbformat": 4,
 "nbformat_minor": 2
}
