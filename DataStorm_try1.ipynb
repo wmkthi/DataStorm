{
 "cells": [
  {
   "cell_type": "code",
   "execution_count": 41,
   "metadata": {},
   "outputs": [],
   "source": [
    "#import libraries\n",
    "import pandas as pd\n",
    "import numpy as np\n",
    "import matplotlib.pyplot as plt\n",
    "import seaborn as sns\n",
    "%matplotlib inline\n",
    "from sklearn.model_selection import train_test_split\n",
    "from sklearn.linear_model import Lasso, LogisticRegression\n",
    "from sklearn.feature_selection import SelectFromModel"
   ]
  },
  {
   "cell_type": "code",
   "execution_count": 42,
   "metadata": {},
   "outputs": [],
   "source": [
    "data = pd.read_csv(\"C:\\\\Users\\\\Wimukthi\\\\Desktop\\\\DataStorm\\\\credit_card_default_train.csv\") #import dataset"
   ]
  },
  {
   "cell_type": "code",
   "execution_count": 43,
   "metadata": {},
   "outputs": [
    {
     "data": {
      "text/plain": [
       "(24000, 25)"
      ]
     },
     "execution_count": 43,
     "metadata": {},
     "output_type": "execute_result"
    }
   ],
   "source": [
    "data.shape"
   ]
  },
  {
   "cell_type": "code",
   "execution_count": 44,
   "metadata": {},
   "outputs": [
    {
     "data": {
      "text/plain": [
       "0"
      ]
     },
     "execution_count": 44,
     "metadata": {},
     "output_type": "execute_result"
    }
   ],
   "source": [
    "data.isnull().sum().sum() #no. of missing Values"
   ]
  },
  {
   "cell_type": "code",
   "execution_count": 45,
   "metadata": {},
   "outputs": [
    {
     "data": {
      "text/plain": [
       "Client_ID             object\n",
       "Balance_Limit_V1      object\n",
       "Gender                object\n",
       "EDUCATION_STATUS      object\n",
       "MARITAL_STATUS        object\n",
       "AGE                   object\n",
       "PAY_JULY               int64\n",
       "PAY_AUG                int64\n",
       "PAY_SEP                int64\n",
       "PAY_OCT                int64\n",
       "PAY_NOV                int64\n",
       "PAY_DEC                int64\n",
       "DUE_AMT_JULY           int64\n",
       "DUE_AMT_AUG            int64\n",
       "DUE_AMT_SEP            int64\n",
       "DUE_AMT_OCT            int64\n",
       "DUE_AMT_NOV            int64\n",
       "DUE_AMT_DEC            int64\n",
       "PAID_AMT_JULY          int64\n",
       "PAID_AMT_AUG           int64\n",
       "PAID_AMT_SEP           int64\n",
       "PAID_AMT_OCT           int64\n",
       "PAID_AMT_NOV           int64\n",
       "PAID_AMT_DEC           int64\n",
       "NEXT_MONTH_DEFAULT     int64\n",
       "dtype: object"
      ]
     },
     "execution_count": 45,
     "metadata": {},
     "output_type": "execute_result"
    }
   ],
   "source": [
    "data.dtypes"
   ]
  },
  {
   "cell_type": "code",
   "execution_count": 46,
   "metadata": {},
   "outputs": [],
   "source": [
    "#replaceing M and K with relavant number of zeros\n",
    "data['Balance_Limit_V1']=data['Balance_Limit_V1'].str.replace(\"M\",\"000000\")  \n",
    "data['Balance_Limit_V1']=data['Balance_Limit_V1'].str.replace(\"K\",\"000\")\n",
    "data['Balance_Limit_V1']=data['Balance_Limit_V1'].astype(\"float\") #convert datatype into float"
   ]
  },
  {
   "cell_type": "code",
   "execution_count": 47,
   "metadata": {},
   "outputs": [
    {
     "data": {
      "text/plain": [
       "0    18670\n",
       "1     5330\n",
       "Name: NEXT_MONTH_DEFAULT, dtype: int64"
      ]
     },
     "execution_count": 47,
     "metadata": {},
     "output_type": "execute_result"
    }
   ],
   "source": [
    "data[\"NEXT_MONTH_DEFAULT\"].value_counts() #value counts of the target variable"
   ]
  },
  {
   "cell_type": "code",
   "execution_count": 48,
   "metadata": {},
   "outputs": [
    {
     "data": {
      "text/plain": [
       "Index(['Client_ID', 'Balance_Limit_V1', 'Gender', 'EDUCATION_STATUS',\n",
       "       'MARITAL_STATUS', 'AGE', 'PAY_JULY', 'PAY_AUG', 'PAY_SEP', 'PAY_OCT',\n",
       "       'PAY_NOV', 'PAY_DEC', 'DUE_AMT_JULY', 'DUE_AMT_AUG', 'DUE_AMT_SEP',\n",
       "       'DUE_AMT_OCT', 'DUE_AMT_NOV', 'DUE_AMT_DEC', 'PAID_AMT_JULY',\n",
       "       'PAID_AMT_AUG', 'PAID_AMT_SEP', 'PAID_AMT_OCT', 'PAID_AMT_NOV',\n",
       "       'PAID_AMT_DEC', 'NEXT_MONTH_DEFAULT'],\n",
       "      dtype='object')"
      ]
     },
     "execution_count": 48,
     "metadata": {},
     "output_type": "execute_result"
    }
   ],
   "source": [
    "data.columns"
   ]
  },
  {
   "cell_type": "code",
   "execution_count": 49,
   "metadata": {},
   "outputs": [],
   "source": [
    "#standardizing numerical features\n",
    "col_to_norm = ['Balance_Limit_V1','DUE_AMT_JULY', 'DUE_AMT_AUG', 'DUE_AMT_SEP','DUE_AMT_OCT', \n",
    "               'DUE_AMT_NOV', 'DUE_AMT_DEC', 'PAID_AMT_JULY','PAID_AMT_AUG', 'PAID_AMT_SEP', \n",
    "               'PAID_AMT_OCT', 'PAID_AMT_NOV','PAID_AMT_DEC']\n",
    "data[col_to_norm]=data[col_to_norm].apply(lambda x: (x-np.mean(x))/np.std(x))"
   ]
  },
  {
   "cell_type": "code",
   "execution_count": 50,
   "metadata": {},
   "outputs": [],
   "source": [
    "#Creating Dummy Variable for Categorical data\n",
    "cat_vars=['Gender', 'EDUCATION_STATUS','MARITAL_STATUS', 'AGE', 'PAY_JULY', 'PAY_AUG', \n",
    "          'PAY_SEP', 'PAY_OCT','PAY_NOV', 'PAY_DEC']\n",
    "for var in cat_vars:\n",
    "    cat_list=\"var\"+'_'+var\n",
    "    cat_list=pd.get_dummies(data[var], prefix=var)\n",
    "    data=data.join(cat_list)\n",
    "data_var=data.columns.values.tolist()\n",
    "to_keep=[i for i in data_var if i not in cat_vars]"
   ]
  },
  {
   "cell_type": "code",
   "execution_count": 51,
   "metadata": {},
   "outputs": [
    {
     "data": {
      "text/plain": [
       "array(['Client_ID', 'Balance_Limit_V1', 'DUE_AMT_JULY', 'DUE_AMT_AUG',\n",
       "       'DUE_AMT_SEP', 'DUE_AMT_OCT', 'DUE_AMT_NOV', 'DUE_AMT_DEC',\n",
       "       'PAID_AMT_JULY', 'PAID_AMT_AUG', 'PAID_AMT_SEP', 'PAID_AMT_OCT',\n",
       "       'PAID_AMT_NOV', 'PAID_AMT_DEC', 'NEXT_MONTH_DEFAULT', 'Gender_F',\n",
       "       'Gender_M', 'EDUCATION_STATUS_Graduate',\n",
       "       'EDUCATION_STATUS_High School', 'EDUCATION_STATUS_Other',\n",
       "       'MARITAL_STATUS_Other', 'MARITAL_STATUS_Single', 'AGE_31-45',\n",
       "       'AGE_46-65', 'AGE_Less than 30', 'AGE_More than 65', 'PAY_JULY_-2',\n",
       "       'PAY_JULY_-1', 'PAY_JULY_0', 'PAY_JULY_1', 'PAY_JULY_2',\n",
       "       'PAY_JULY_3', 'PAY_JULY_4', 'PAY_JULY_5', 'PAY_JULY_6',\n",
       "       'PAY_JULY_7', 'PAY_JULY_8', 'PAY_AUG_-2', 'PAY_AUG_-1',\n",
       "       'PAY_AUG_0', 'PAY_AUG_1', 'PAY_AUG_2', 'PAY_AUG_3', 'PAY_AUG_4',\n",
       "       'PAY_AUG_5', 'PAY_AUG_6', 'PAY_AUG_7', 'PAY_AUG_8', 'PAY_SEP_-2',\n",
       "       'PAY_SEP_-1', 'PAY_SEP_0', 'PAY_SEP_1', 'PAY_SEP_2', 'PAY_SEP_3',\n",
       "       'PAY_SEP_4', 'PAY_SEP_5', 'PAY_SEP_6', 'PAY_SEP_7', 'PAY_SEP_8',\n",
       "       'PAY_OCT_-2', 'PAY_OCT_-1', 'PAY_OCT_0', 'PAY_OCT_1', 'PAY_OCT_2',\n",
       "       'PAY_OCT_3', 'PAY_OCT_4', 'PAY_OCT_5', 'PAY_OCT_6', 'PAY_OCT_7',\n",
       "       'PAY_OCT_8', 'PAY_NOV_-2', 'PAY_NOV_-1', 'PAY_NOV_0', 'PAY_NOV_2',\n",
       "       'PAY_NOV_3', 'PAY_NOV_4', 'PAY_NOV_5', 'PAY_NOV_6', 'PAY_NOV_7',\n",
       "       'PAY_NOV_8', 'PAY_DEC_-2', 'PAY_DEC_-1', 'PAY_DEC_0', 'PAY_DEC_2',\n",
       "       'PAY_DEC_3', 'PAY_DEC_4', 'PAY_DEC_5', 'PAY_DEC_6', 'PAY_DEC_7',\n",
       "       'PAY_DEC_8'], dtype=object)"
      ]
     },
     "execution_count": 51,
     "metadata": {},
     "output_type": "execute_result"
    }
   ],
   "source": [
    "data_final=data[to_keep]\n",
    "data_final.columns.values"
   ]
  },
  {
   "cell_type": "code",
   "execution_count": 52,
   "metadata": {},
   "outputs": [
    {
     "data": {
      "text/plain": [
       "(24000, 90)"
      ]
     },
     "execution_count": 52,
     "metadata": {},
     "output_type": "execute_result"
    }
   ],
   "source": [
    "data_final.shape"
   ]
  },
  {
   "cell_type": "code",
   "execution_count": 53,
   "metadata": {},
   "outputs": [],
   "source": [
    "X = data_final[['Balance_Limit_V1', 'DUE_AMT_JULY', 'DUE_AMT_AUG',\n",
    "       'DUE_AMT_SEP', 'DUE_AMT_OCT', 'DUE_AMT_NOV', 'DUE_AMT_DEC',\n",
    "       'PAID_AMT_JULY', 'PAID_AMT_AUG', 'PAID_AMT_SEP', 'PAID_AMT_OCT',\n",
    "       'PAID_AMT_NOV', 'PAID_AMT_DEC', 'Gender_F',\n",
    "        'EDUCATION_STATUS_Graduate',\n",
    "       'EDUCATION_STATUS_High School', \n",
    "       'MARITAL_STATUS_Other',  'AGE_31-45',\n",
    "       'AGE_46-65', 'AGE_Less than 30',  'PAY_JULY_-2',\n",
    "       'PAY_JULY_-1', 'PAY_JULY_1', 'PAY_JULY_2',\n",
    "       'PAY_JULY_3', 'PAY_JULY_4', 'PAY_JULY_5', 'PAY_JULY_6',\n",
    "       'PAY_JULY_7', 'PAY_JULY_8', 'PAY_AUG_-2', 'PAY_AUG_-1',\n",
    "        'PAY_AUG_1', 'PAY_AUG_2', 'PAY_AUG_3', 'PAY_AUG_4',\n",
    "       'PAY_AUG_5', 'PAY_AUG_6', 'PAY_AUG_7', 'PAY_AUG_8', 'PAY_SEP_-2',\n",
    "       'PAY_SEP_-1',  'PAY_SEP_1', 'PAY_SEP_2', 'PAY_SEP_3',\n",
    "       'PAY_SEP_4', 'PAY_SEP_5', 'PAY_SEP_6', 'PAY_SEP_7', 'PAY_SEP_8',\n",
    "       'PAY_OCT_-2', 'PAY_OCT_-1',  'PAY_OCT_1', 'PAY_OCT_2',\n",
    "       'PAY_OCT_3', 'PAY_OCT_4', 'PAY_OCT_5', 'PAY_OCT_6', 'PAY_OCT_7',\n",
    "       'PAY_OCT_8', 'PAY_NOV_-2', 'PAY_NOV_-1',  'PAY_NOV_2',\n",
    "       'PAY_NOV_3', 'PAY_NOV_4', 'PAY_NOV_5', 'PAY_NOV_6', 'PAY_NOV_7',\n",
    "       'PAY_NOV_8', 'PAY_DEC_-2', 'PAY_DEC_-1',  'PAY_DEC_2',\n",
    "       'PAY_DEC_3', 'PAY_DEC_4', 'PAY_DEC_5', 'PAY_DEC_6', 'PAY_DEC_7',\n",
    "       'PAY_DEC_8']]\n",
    "y=data_final[\"NEXT_MONTH_DEFAULT\"]"
   ]
  },
  {
   "cell_type": "code",
   "execution_count": 54,
   "metadata": {},
   "outputs": [
    {
     "name": "stdout",
     "output_type": "stream",
     "text": [
      "train set: (16800, 78)\n",
      "test set: (7200, 78)\n"
     ]
    }
   ],
   "source": [
    "#split the data\n",
    "X_train, X_test, y_train, y_test = train_test_split(X, y, test_size=0.3, random_state=0)\n",
    "print(\"train set:\",X_train.shape)\n",
    "print(\"test set:\",X_test.shape)"
   ]
  },
  {
   "cell_type": "code",
   "execution_count": 55,
   "metadata": {},
   "outputs": [
    {
     "name": "stderr",
     "output_type": "stream",
     "text": [
      "C:\\Users\\Wimukthi\\Anaconda3\\lib\\site-packages\\sklearn\\linear_model\\logistic.py:432: FutureWarning: Default solver will be changed to 'lbfgs' in 0.22. Specify a solver to silence this warning.\n",
      "  FutureWarning)\n"
     ]
    },
    {
     "data": {
      "text/plain": [
       "LogisticRegression(C=1.0, class_weight=None, dual=False, fit_intercept=True,\n",
       "                   intercept_scaling=1, l1_ratio=None, max_iter=100,\n",
       "                   multi_class='warn', n_jobs=None, penalty='l2',\n",
       "                   random_state=None, solver='warn', tol=0.0001, verbose=0,\n",
       "                   warm_start=False)"
      ]
     },
     "execution_count": 55,
     "metadata": {},
     "output_type": "execute_result"
    }
   ],
   "source": [
    "#logistic regression\n",
    "logistic_regression = LogisticRegression()\n",
    "logistic_regression.fit(X_train,y_train) #model fit"
   ]
  },
  {
   "cell_type": "code",
   "execution_count": 56,
   "metadata": {},
   "outputs": [],
   "source": [
    "y_pred = logistic_regression.predict(X_test) #predicting"
   ]
  },
  {
   "cell_type": "code",
   "execution_count": 57,
   "metadata": {},
   "outputs": [
    {
     "name": "stdout",
     "output_type": "stream",
     "text": [
      "Accuracy of the Logistic Regression Model: 82.43055555555556\n"
     ]
    }
   ],
   "source": [
    "#model accuracy\n",
    "from sklearn import metrics \n",
    "accuracy = metrics.accuracy_score(y_test, y_pred)\n",
    "accuracy_percentage = 100 * accuracy\n",
    "print(\"Accuracy of the Logistic Regression Model:\",accuracy_percentage)"
   ]
  },
  {
   "cell_type": "code",
   "execution_count": 58,
   "metadata": {},
   "outputs": [
    {
     "name": "stdout",
     "output_type": "stream",
     "text": [
      "              precision    recall  f1-score   support\n",
      "\n",
      "           0       0.84      0.95      0.89      5647\n",
      "           1       0.67      0.36      0.47      1553\n",
      "\n",
      "    accuracy                           0.82      7200\n",
      "   macro avg       0.76      0.66      0.68      7200\n",
      "weighted avg       0.81      0.82      0.80      7200\n",
      "\n"
     ]
    }
   ],
   "source": [
    "from sklearn.metrics import classification_report\n",
    "print(classification_report(y_test, y_pred)) #classification report"
   ]
  },
  {
   "cell_type": "markdown",
   "metadata": {},
   "source": [
    "### Prediction"
   ]
  },
  {
   "cell_type": "code",
   "execution_count": 59,
   "metadata": {},
   "outputs": [],
   "source": [
    "td = pd.read_csv(\"C:\\\\Users\\\\Wimukthi\\\\Desktop\\\\DataStorm\\\\credit_card_default_test.csv\") #import test data"
   ]
  },
  {
   "cell_type": "code",
   "execution_count": 60,
   "metadata": {},
   "outputs": [
    {
     "data": {
      "text/plain": [
       "(6000, 24)"
      ]
     },
     "execution_count": 60,
     "metadata": {},
     "output_type": "execute_result"
    }
   ],
   "source": [
    "td.shape"
   ]
  },
  {
   "cell_type": "code",
   "execution_count": 61,
   "metadata": {},
   "outputs": [
    {
     "data": {
      "text/plain": [
       "0"
      ]
     },
     "execution_count": 61,
     "metadata": {},
     "output_type": "execute_result"
    }
   ],
   "source": [
    "td.isnull().sum().sum() #no. of missing Values"
   ]
  },
  {
   "cell_type": "code",
   "execution_count": 62,
   "metadata": {},
   "outputs": [
    {
     "data": {
      "text/plain": [
       "Client_ID           object\n",
       "Balance_Limit_V1    object\n",
       "Gender              object\n",
       "EDUCATION_STATUS    object\n",
       "MARITAL_STATUS      object\n",
       "AGE                 object\n",
       "PAY_JULY             int64\n",
       "PAY_AUG              int64\n",
       "PAY_SEP              int64\n",
       "PAY_OCT              int64\n",
       "PAY_NOV              int64\n",
       "PAY_DEC              int64\n",
       "DUE_AMT_JULY         int64\n",
       "DUE_AMT_AUG          int64\n",
       "DUE_AMT_SEP          int64\n",
       "DUE_AMT_OCT          int64\n",
       "DUE_AMT_NOV          int64\n",
       "DUE_AMT_DEC          int64\n",
       "PAID_AMT_JULY        int64\n",
       "PAID_AMT_AUG         int64\n",
       "PAID_AMT_SEP         int64\n",
       "PAID_AMT_OCT         int64\n",
       "PAID_AMT_NOV         int64\n",
       "PAID_AMT_DEC         int64\n",
       "dtype: object"
      ]
     },
     "execution_count": 62,
     "metadata": {},
     "output_type": "execute_result"
    }
   ],
   "source": [
    "td.dtypes"
   ]
  },
  {
   "cell_type": "code",
   "execution_count": 63,
   "metadata": {},
   "outputs": [],
   "source": [
    "#replaceing M and K with relavant number of zeros\n",
    "td['Balance_Limit_V1']=td['Balance_Limit_V1'].str.replace(\"M\",\"000000\")  \n",
    "td['Balance_Limit_V1']=td['Balance_Limit_V1'].str.replace(\"K\",\"000\")\n",
    "td['Balance_Limit_V1']=td['Balance_Limit_V1'].astype(\"float\") #convert datatype into float"
   ]
  },
  {
   "cell_type": "code",
   "execution_count": 64,
   "metadata": {},
   "outputs": [],
   "source": [
    "#standardizing numerical features\n",
    "col_to_norm = ['Balance_Limit_V1','DUE_AMT_JULY', 'DUE_AMT_AUG', 'DUE_AMT_SEP','DUE_AMT_OCT', \n",
    "               'DUE_AMT_NOV', 'DUE_AMT_DEC', 'PAID_AMT_JULY','PAID_AMT_AUG', 'PAID_AMT_SEP', \n",
    "               'PAID_AMT_OCT', 'PAID_AMT_NOV','PAID_AMT_DEC']\n",
    "td[col_to_norm]=td[col_to_norm].apply(lambda x: (x-np.mean(x))/np.std(x))"
   ]
  },
  {
   "cell_type": "code",
   "execution_count": 65,
   "metadata": {},
   "outputs": [],
   "source": [
    "#Creating Dummy Variable for Categorical data\n",
    "cat_vars=['Gender', 'EDUCATION_STATUS','MARITAL_STATUS', 'AGE', 'PAY_JULY', 'PAY_AUG', \n",
    "          'PAY_SEP', 'PAY_OCT','PAY_NOV', 'PAY_DEC']\n",
    "for var in cat_vars:\n",
    "    cat_list=\"var\"+'_'+var\n",
    "    cat_list=pd.get_dummies(td[var], prefix=var)\n",
    "    td=td.join(cat_list)\n",
    "data_var=td.columns.values.tolist()\n",
    "to_keep=[i for i in data_var if i not in cat_vars]"
   ]
  },
  {
   "cell_type": "code",
   "execution_count": 66,
   "metadata": {},
   "outputs": [
    {
     "data": {
      "text/plain": [
       "array(['Client_ID', 'Balance_Limit_V1', 'DUE_AMT_JULY', 'DUE_AMT_AUG',\n",
       "       'DUE_AMT_SEP', 'DUE_AMT_OCT', 'DUE_AMT_NOV', 'DUE_AMT_DEC',\n",
       "       'PAID_AMT_JULY', 'PAID_AMT_AUG', 'PAID_AMT_SEP', 'PAID_AMT_OCT',\n",
       "       'PAID_AMT_NOV', 'PAID_AMT_DEC', 'Gender_F', 'Gender_M',\n",
       "       'EDUCATION_STATUS_Graduate', 'EDUCATION_STATUS_High School',\n",
       "       'EDUCATION_STATUS_Other', 'MARITAL_STATUS_Other',\n",
       "       'MARITAL_STATUS_Single', 'AGE_31-45', 'AGE_46-65',\n",
       "       'AGE_Less than 30', 'AGE_More than 65', 'PAY_JULY_-2',\n",
       "       'PAY_JULY_-1', 'PAY_JULY_0', 'PAY_JULY_1', 'PAY_JULY_2',\n",
       "       'PAY_JULY_3', 'PAY_JULY_4', 'PAY_JULY_5', 'PAY_JULY_6',\n",
       "       'PAY_JULY_7', 'PAY_JULY_8', 'PAY_AUG_-2', 'PAY_AUG_-1',\n",
       "       'PAY_AUG_0', 'PAY_AUG_1', 'PAY_AUG_2', 'PAY_AUG_3', 'PAY_AUG_4',\n",
       "       'PAY_AUG_5', 'PAY_AUG_6', 'PAY_AUG_7', 'PAY_SEP_-2', 'PAY_SEP_-1',\n",
       "       'PAY_SEP_0', 'PAY_SEP_2', 'PAY_SEP_3', 'PAY_SEP_4', 'PAY_SEP_5',\n",
       "       'PAY_SEP_6', 'PAY_SEP_7', 'PAY_SEP_8', 'PAY_OCT_-2', 'PAY_OCT_-1',\n",
       "       'PAY_OCT_0', 'PAY_OCT_2', 'PAY_OCT_3', 'PAY_OCT_4', 'PAY_OCT_5',\n",
       "       'PAY_OCT_6', 'PAY_OCT_7', 'PAY_NOV_-2', 'PAY_NOV_-1', 'PAY_NOV_0',\n",
       "       'PAY_NOV_2', 'PAY_NOV_3', 'PAY_NOV_4', 'PAY_NOV_5', 'PAY_NOV_6',\n",
       "       'PAY_NOV_7', 'PAY_DEC_-2', 'PAY_DEC_-1', 'PAY_DEC_0', 'PAY_DEC_2',\n",
       "       'PAY_DEC_3', 'PAY_DEC_4', 'PAY_DEC_5', 'PAY_DEC_6', 'PAY_DEC_7'],\n",
       "      dtype=object)"
      ]
     },
     "execution_count": 66,
     "metadata": {},
     "output_type": "execute_result"
    }
   ],
   "source": [
    "td_final=td[to_keep]\n",
    "td_final.columns.values"
   ]
  },
  {
   "cell_type": "code",
   "execution_count": 67,
   "metadata": {},
   "outputs": [
    {
     "name": "stderr",
     "output_type": "stream",
     "text": [
      "C:\\Users\\Wimukthi\\Anaconda3\\lib\\site-packages\\ipykernel_launcher.py:1: SettingWithCopyWarning: \n",
      "A value is trying to be set on a copy of a slice from a DataFrame.\n",
      "Try using .loc[row_indexer,col_indexer] = value instead\n",
      "\n",
      "See the caveats in the documentation: http://pandas.pydata.org/pandas-docs/stable/user_guide/indexing.html#returning-a-view-versus-a-copy\n",
      "  \"\"\"Entry point for launching an IPython kernel.\n",
      "C:\\Users\\Wimukthi\\Anaconda3\\lib\\site-packages\\ipykernel_launcher.py:2: SettingWithCopyWarning: \n",
      "A value is trying to be set on a copy of a slice from a DataFrame.\n",
      "Try using .loc[row_indexer,col_indexer] = value instead\n",
      "\n",
      "See the caveats in the documentation: http://pandas.pydata.org/pandas-docs/stable/user_guide/indexing.html#returning-a-view-versus-a-copy\n",
      "  \n",
      "C:\\Users\\Wimukthi\\Anaconda3\\lib\\site-packages\\ipykernel_launcher.py:3: SettingWithCopyWarning: \n",
      "A value is trying to be set on a copy of a slice from a DataFrame.\n",
      "Try using .loc[row_indexer,col_indexer] = value instead\n",
      "\n",
      "See the caveats in the documentation: http://pandas.pydata.org/pandas-docs/stable/user_guide/indexing.html#returning-a-view-versus-a-copy\n",
      "  This is separate from the ipykernel package so we can avoid doing imports until\n",
      "C:\\Users\\Wimukthi\\Anaconda3\\lib\\site-packages\\ipykernel_launcher.py:4: SettingWithCopyWarning: \n",
      "A value is trying to be set on a copy of a slice from a DataFrame.\n",
      "Try using .loc[row_indexer,col_indexer] = value instead\n",
      "\n",
      "See the caveats in the documentation: http://pandas.pydata.org/pandas-docs/stable/user_guide/indexing.html#returning-a-view-versus-a-copy\n",
      "  after removing the cwd from sys.path.\n",
      "C:\\Users\\Wimukthi\\Anaconda3\\lib\\site-packages\\ipykernel_launcher.py:5: SettingWithCopyWarning: \n",
      "A value is trying to be set on a copy of a slice from a DataFrame.\n",
      "Try using .loc[row_indexer,col_indexer] = value instead\n",
      "\n",
      "See the caveats in the documentation: http://pandas.pydata.org/pandas-docs/stable/user_guide/indexing.html#returning-a-view-versus-a-copy\n",
      "  \"\"\"\n",
      "C:\\Users\\Wimukthi\\Anaconda3\\lib\\site-packages\\ipykernel_launcher.py:6: SettingWithCopyWarning: \n",
      "A value is trying to be set on a copy of a slice from a DataFrame.\n",
      "Try using .loc[row_indexer,col_indexer] = value instead\n",
      "\n",
      "See the caveats in the documentation: http://pandas.pydata.org/pandas-docs/stable/user_guide/indexing.html#returning-a-view-versus-a-copy\n",
      "  \n"
     ]
    }
   ],
   "source": [
    "td_final['PAY_SEP_1'] = 0\n",
    "td_final['PAY_OCT_1'] = 0\n",
    "td_final['PAY_AUG_8'] = 0\n",
    "td_final['PAY_OCT_8'] = 0\n",
    "td_final['PAY_NOV_8'] = 0\n",
    "td_final['PAY_DEC_8'] = 0"
   ]
  },
  {
   "cell_type": "code",
   "execution_count": 68,
   "metadata": {},
   "outputs": [],
   "source": [
    "#Final Columns to keep\n",
    "X=td_final[['Balance_Limit_V1', 'DUE_AMT_JULY', 'DUE_AMT_AUG',\n",
    "       'DUE_AMT_SEP', 'DUE_AMT_OCT', 'DUE_AMT_NOV', 'DUE_AMT_DEC',\n",
    "       'PAID_AMT_JULY', 'PAID_AMT_AUG', 'PAID_AMT_SEP', 'PAID_AMT_OCT',\n",
    "       'PAID_AMT_NOV', 'PAID_AMT_DEC', 'Gender_F',\n",
    "        'EDUCATION_STATUS_Graduate',\n",
    "       'EDUCATION_STATUS_High School', \n",
    "       'MARITAL_STATUS_Other',  'AGE_31-45',\n",
    "       'AGE_46-65', 'AGE_Less than 30',  'PAY_JULY_-2',\n",
    "       'PAY_JULY_-1', 'PAY_JULY_1', 'PAY_JULY_2',\n",
    "       'PAY_JULY_3', 'PAY_JULY_4', 'PAY_JULY_5', 'PAY_JULY_6',\n",
    "       'PAY_JULY_7', 'PAY_JULY_8', 'PAY_AUG_-2', 'PAY_AUG_-1',\n",
    "        'PAY_AUG_1', 'PAY_AUG_2', 'PAY_AUG_3', 'PAY_AUG_4',\n",
    "       'PAY_AUG_5', 'PAY_AUG_6', 'PAY_AUG_7', 'PAY_AUG_8', 'PAY_SEP_-2',\n",
    "       'PAY_SEP_-1',  'PAY_SEP_1', 'PAY_SEP_2', 'PAY_SEP_3',\n",
    "       'PAY_SEP_4', 'PAY_SEP_5', 'PAY_SEP_6', 'PAY_SEP_7', 'PAY_SEP_8',\n",
    "       'PAY_OCT_-2', 'PAY_OCT_-1',  'PAY_OCT_1', 'PAY_OCT_2',\n",
    "       'PAY_OCT_3', 'PAY_OCT_4', 'PAY_OCT_5', 'PAY_OCT_6', 'PAY_OCT_7',\n",
    "       'PAY_OCT_8', 'PAY_NOV_-2', 'PAY_NOV_-1',  'PAY_NOV_2',\n",
    "       'PAY_NOV_3', 'PAY_NOV_4', 'PAY_NOV_5', 'PAY_NOV_6', 'PAY_NOV_7',\n",
    "       'PAY_NOV_8', 'PAY_DEC_-2', 'PAY_DEC_-1',  'PAY_DEC_2',\n",
    "       'PAY_DEC_3', 'PAY_DEC_4', 'PAY_DEC_5', 'PAY_DEC_6', 'PAY_DEC_7',\n",
    "       'PAY_DEC_8']]\n",
    "#y=td_final[\"NEXT_MONTH_DEFAULT\"]"
   ]
  },
  {
   "cell_type": "code",
   "execution_count": 69,
   "metadata": {},
   "outputs": [],
   "source": [
    "y_test_predict = logistic_regression.predict(X) #predicting"
   ]
  },
  {
   "cell_type": "code",
   "execution_count": 71,
   "metadata": {},
   "outputs": [],
   "source": [
    "credit_default = pd.DataFrame(y_test_predict,columns = ['NEXT_MONTH_DEFAULT']) #convert to a dataframe"
   ]
  },
  {
   "cell_type": "code",
   "execution_count": 72,
   "metadata": {},
   "outputs": [],
   "source": [
    "#merge the predictions and test data set\n",
    "td['index'] = td.index \n",
    "credit_default['index'] = credit_default.index\n",
    "result = pd.merge(td,credit_default, on= 'index')"
   ]
  },
  {
   "cell_type": "code",
   "execution_count": 75,
   "metadata": {},
   "outputs": [
    {
     "data": {
      "text/html": [
       "<div>\n",
       "<style scoped>\n",
       "    .dataframe tbody tr th:only-of-type {\n",
       "        vertical-align: middle;\n",
       "    }\n",
       "\n",
       "    .dataframe tbody tr th {\n",
       "        vertical-align: top;\n",
       "    }\n",
       "\n",
       "    .dataframe thead th {\n",
       "        text-align: right;\n",
       "    }\n",
       "</style>\n",
       "<table border=\"1\" class=\"dataframe\">\n",
       "  <thead>\n",
       "    <tr style=\"text-align: right;\">\n",
       "      <th></th>\n",
       "      <th>Client_ID</th>\n",
       "      <th>Balance_Limit_V1</th>\n",
       "      <th>Gender</th>\n",
       "      <th>EDUCATION_STATUS</th>\n",
       "      <th>MARITAL_STATUS</th>\n",
       "      <th>AGE</th>\n",
       "      <th>PAY_JULY</th>\n",
       "      <th>PAY_AUG</th>\n",
       "      <th>PAY_SEP</th>\n",
       "      <th>PAY_OCT</th>\n",
       "      <th>...</th>\n",
       "      <th>PAY_DEC_-1</th>\n",
       "      <th>PAY_DEC_0</th>\n",
       "      <th>PAY_DEC_2</th>\n",
       "      <th>PAY_DEC_3</th>\n",
       "      <th>PAY_DEC_4</th>\n",
       "      <th>PAY_DEC_5</th>\n",
       "      <th>PAY_DEC_6</th>\n",
       "      <th>PAY_DEC_7</th>\n",
       "      <th>index</th>\n",
       "      <th>NEXT_MONTH_DEFAULT</th>\n",
       "    </tr>\n",
       "  </thead>\n",
       "  <tbody>\n",
       "    <tr>\n",
       "      <td>0</td>\n",
       "      <td>A20170</td>\n",
       "      <td>0.172446</td>\n",
       "      <td>M</td>\n",
       "      <td>Other</td>\n",
       "      <td>Single</td>\n",
       "      <td>31-45</td>\n",
       "      <td>0</td>\n",
       "      <td>0</td>\n",
       "      <td>0</td>\n",
       "      <td>0</td>\n",
       "      <td>...</td>\n",
       "      <td>0</td>\n",
       "      <td>1</td>\n",
       "      <td>0</td>\n",
       "      <td>0</td>\n",
       "      <td>0</td>\n",
       "      <td>0</td>\n",
       "      <td>0</td>\n",
       "      <td>0</td>\n",
       "      <td>0</td>\n",
       "      <td>0</td>\n",
       "    </tr>\n",
       "    <tr>\n",
       "      <td>1</td>\n",
       "      <td>A16887</td>\n",
       "      <td>-0.699964</td>\n",
       "      <td>F</td>\n",
       "      <td>Other</td>\n",
       "      <td>Single</td>\n",
       "      <td>31-45</td>\n",
       "      <td>0</td>\n",
       "      <td>0</td>\n",
       "      <td>0</td>\n",
       "      <td>0</td>\n",
       "      <td>...</td>\n",
       "      <td>0</td>\n",
       "      <td>1</td>\n",
       "      <td>0</td>\n",
       "      <td>0</td>\n",
       "      <td>0</td>\n",
       "      <td>0</td>\n",
       "      <td>0</td>\n",
       "      <td>0</td>\n",
       "      <td>1</td>\n",
       "      <td>0</td>\n",
       "    </tr>\n",
       "    <tr>\n",
       "      <td>2</td>\n",
       "      <td>A3430</td>\n",
       "      <td>-0.118357</td>\n",
       "      <td>M</td>\n",
       "      <td>Other</td>\n",
       "      <td>Other</td>\n",
       "      <td>Less than 30</td>\n",
       "      <td>-1</td>\n",
       "      <td>-1</td>\n",
       "      <td>2</td>\n",
       "      <td>0</td>\n",
       "      <td>...</td>\n",
       "      <td>1</td>\n",
       "      <td>0</td>\n",
       "      <td>0</td>\n",
       "      <td>0</td>\n",
       "      <td>0</td>\n",
       "      <td>0</td>\n",
       "      <td>0</td>\n",
       "      <td>0</td>\n",
       "      <td>2</td>\n",
       "      <td>0</td>\n",
       "    </tr>\n",
       "    <tr>\n",
       "      <td>3</td>\n",
       "      <td>A3696</td>\n",
       "      <td>-1.281566</td>\n",
       "      <td>M</td>\n",
       "      <td>Graduate</td>\n",
       "      <td>Single</td>\n",
       "      <td>31-45</td>\n",
       "      <td>1</td>\n",
       "      <td>-1</td>\n",
       "      <td>-1</td>\n",
       "      <td>-2</td>\n",
       "      <td>...</td>\n",
       "      <td>0</td>\n",
       "      <td>0</td>\n",
       "      <td>0</td>\n",
       "      <td>0</td>\n",
       "      <td>0</td>\n",
       "      <td>0</td>\n",
       "      <td>0</td>\n",
       "      <td>0</td>\n",
       "      <td>3</td>\n",
       "      <td>0</td>\n",
       "    </tr>\n",
       "    <tr>\n",
       "      <td>4</td>\n",
       "      <td>A20474</td>\n",
       "      <td>-0.990767</td>\n",
       "      <td>F</td>\n",
       "      <td>High School</td>\n",
       "      <td>Other</td>\n",
       "      <td>Less than 30</td>\n",
       "      <td>0</td>\n",
       "      <td>0</td>\n",
       "      <td>-2</td>\n",
       "      <td>-2</td>\n",
       "      <td>...</td>\n",
       "      <td>0</td>\n",
       "      <td>0</td>\n",
       "      <td>0</td>\n",
       "      <td>0</td>\n",
       "      <td>0</td>\n",
       "      <td>0</td>\n",
       "      <td>0</td>\n",
       "      <td>0</td>\n",
       "      <td>4</td>\n",
       "      <td>0</td>\n",
       "    </tr>\n",
       "  </tbody>\n",
       "</table>\n",
       "<p>5 rows × 95 columns</p>\n",
       "</div>"
      ],
      "text/plain": [
       "  Client_ID  Balance_Limit_V1 Gender EDUCATION_STATUS MARITAL_STATUS  \\\n",
       "0    A20170          0.172446      M            Other         Single   \n",
       "1    A16887         -0.699964      F            Other         Single   \n",
       "2     A3430         -0.118357      M            Other          Other   \n",
       "3     A3696         -1.281566      M         Graduate         Single   \n",
       "4    A20474         -0.990767      F      High School          Other   \n",
       "\n",
       "            AGE  PAY_JULY  PAY_AUG  PAY_SEP  PAY_OCT  ...  PAY_DEC_-1  \\\n",
       "0         31-45         0        0        0        0  ...           0   \n",
       "1         31-45         0        0        0        0  ...           0   \n",
       "2  Less than 30        -1       -1        2        0  ...           1   \n",
       "3         31-45         1       -1       -1       -2  ...           0   \n",
       "4  Less than 30         0        0       -2       -2  ...           0   \n",
       "\n",
       "   PAY_DEC_0  PAY_DEC_2  PAY_DEC_3  PAY_DEC_4  PAY_DEC_5  PAY_DEC_6  \\\n",
       "0          1          0          0          0          0          0   \n",
       "1          1          0          0          0          0          0   \n",
       "2          0          0          0          0          0          0   \n",
       "3          0          0          0          0          0          0   \n",
       "4          0          0          0          0          0          0   \n",
       "\n",
       "   PAY_DEC_7  index  NEXT_MONTH_DEFAULT  \n",
       "0          0      0                   0  \n",
       "1          0      1                   0  \n",
       "2          0      2                   0  \n",
       "3          0      3                   0  \n",
       "4          0      4                   0  \n",
       "\n",
       "[5 rows x 95 columns]"
      ]
     },
     "execution_count": 75,
     "metadata": {},
     "output_type": "execute_result"
    }
   ],
   "source": [
    "result.head()"
   ]
  },
  {
   "cell_type": "code",
   "execution_count": 83,
   "metadata": {},
   "outputs": [],
   "source": [
    "predictions = result[[\"Client_ID\",\"NEXT_MONTH_DEFAULT\"]]\n",
    "predictions.to_csv(\"C:\\\\Users\\\\Wimukthi\\\\Desktop\\\\DataStorm\\\\predictions_1.csv\", index=False) #export prediction to a csv file"
   ]
  },
  {
   "cell_type": "code",
   "execution_count": null,
   "metadata": {},
   "outputs": [],
   "source": []
  }
 ],
 "metadata": {
  "kernelspec": {
   "display_name": "Python 3",
   "language": "python",
   "name": "python3"
  },
  "language_info": {
   "codemirror_mode": {
    "name": "ipython",
    "version": 3
   },
   "file_extension": ".py",
   "mimetype": "text/x-python",
   "name": "python",
   "nbconvert_exporter": "python",
   "pygments_lexer": "ipython3",
   "version": "3.7.4"
  }
 },
 "nbformat": 4,
 "nbformat_minor": 2
}
